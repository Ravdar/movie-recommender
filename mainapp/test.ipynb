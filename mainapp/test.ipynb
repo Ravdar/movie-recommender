{
 "cells": [
  {
   "cell_type": "code",
   "execution_count": 3,
   "metadata": {},
   "outputs": [
    {
     "ename": "OpenAIError",
     "evalue": "The api_key client option must be set either by passing api_key to the client or by setting the OPENAI_API_KEY environment variable",
     "output_type": "error",
     "traceback": [
      "\u001b[1;31m---------------------------------------------------------------------------\u001b[0m",
      "\u001b[1;31mOpenAIError\u001b[0m                               Traceback (most recent call last)",
      "\u001b[1;32m~\\AppData\\Local\\Temp/ipykernel_464/1249037799.py\u001b[0m in \u001b[0;36m<module>\u001b[1;34m\u001b[0m\n\u001b[0;32m      1\u001b[0m \u001b[1;32mfrom\u001b[0m \u001b[0mopenai\u001b[0m \u001b[1;32mimport\u001b[0m \u001b[0mOpenAI\u001b[0m\u001b[1;33m\u001b[0m\u001b[1;33m\u001b[0m\u001b[0m\n\u001b[1;32m----> 2\u001b[1;33m \u001b[0mclient\u001b[0m \u001b[1;33m=\u001b[0m \u001b[0mOpenAI\u001b[0m\u001b[1;33m(\u001b[0m\u001b[1;33m)\u001b[0m\u001b[1;33m\u001b[0m\u001b[1;33m\u001b[0m\u001b[0m\n\u001b[0m\u001b[0;32m      3\u001b[0m \u001b[1;33m\u001b[0m\u001b[0m\n\u001b[0;32m      4\u001b[0m completion = client.chat.completions.create(\n\u001b[0;32m      5\u001b[0m   \u001b[0mmodel\u001b[0m\u001b[1;33m=\u001b[0m\u001b[1;34m\"gpt-3.5-turbo\"\u001b[0m\u001b[1;33m,\u001b[0m\u001b[1;33m\u001b[0m\u001b[1;33m\u001b[0m\u001b[0m\n",
      "\u001b[1;32mc:\\Users\\Tomasz\\anaconda3\\lib\\site-packages\\openai\\_client.py\u001b[0m in \u001b[0;36m__init__\u001b[1;34m(self, api_key, organization, base_url, timeout, max_retries, default_headers, default_query, http_client, _strict_response_validation)\u001b[0m\n\u001b[0;32m     91\u001b[0m             \u001b[0mapi_key\u001b[0m \u001b[1;33m=\u001b[0m \u001b[0mos\u001b[0m\u001b[1;33m.\u001b[0m\u001b[0menviron\u001b[0m\u001b[1;33m.\u001b[0m\u001b[0mget\u001b[0m\u001b[1;33m(\u001b[0m\u001b[1;34m\"OPENAI_API_KEY\"\u001b[0m\u001b[1;33m)\u001b[0m\u001b[1;33m\u001b[0m\u001b[1;33m\u001b[0m\u001b[0m\n\u001b[0;32m     92\u001b[0m         \u001b[1;32mif\u001b[0m \u001b[0mapi_key\u001b[0m \u001b[1;32mis\u001b[0m \u001b[1;32mNone\u001b[0m\u001b[1;33m:\u001b[0m\u001b[1;33m\u001b[0m\u001b[1;33m\u001b[0m\u001b[0m\n\u001b[1;32m---> 93\u001b[1;33m             raise OpenAIError(\n\u001b[0m\u001b[0;32m     94\u001b[0m                 \u001b[1;34m\"The api_key client option must be set either by passing api_key to the client or by setting the OPENAI_API_KEY environment variable\"\u001b[0m\u001b[1;33m\u001b[0m\u001b[1;33m\u001b[0m\u001b[0m\n\u001b[0;32m     95\u001b[0m             )\n",
      "\u001b[1;31mOpenAIError\u001b[0m: The api_key client option must be set either by passing api_key to the client or by setting the OPENAI_API_KEY environment variable"
     ]
    }
   ],
   "source": [
    "from openai import OpenAI\n",
    "client = OpenAI()\n",
    "\n",
    "completion = client.chat.completions.create(\n",
    "  model=\"gpt-3.5-turbo\",\n",
    "  messages=[\n",
    "    {\"role\": \"system\", \"content\": \"You are a poetic assistant, skilled in explaining complex programming concepts with creative flair.\"},\n",
    "    {\"role\": \"user\", \"content\": \"Compose a poem that explains the concept of recursion in programming.\"}\n",
    "  ]\n",
    ")\n",
    "\n",
    "print(completion.choices[0].message)"
   ]
  },
  {
   "cell_type": "code",
   "execution_count": 4,
   "metadata": {},
   "outputs": [
    {
     "ename": "ModuleNotFoundError",
     "evalue": "No module named 'mainapp'",
     "output_type": "error",
     "traceback": [
      "\u001b[0;31m---------------------------------------------------------------------------\u001b[0m",
      "\u001b[0;31mModuleNotFoundError\u001b[0m                       Traceback (most recent call last)",
      "Cell \u001b[0;32mIn[4], line 1\u001b[0m\n\u001b[0;32m----> 1\u001b[0m \u001b[38;5;28;01mfrom\u001b[39;00m \u001b[38;5;21;01mmainapp\u001b[39;00m\u001b[38;5;21;01m.\u001b[39;00m\u001b[38;5;21;01mutils\u001b[39;00m \u001b[38;5;28;01mimport\u001b[39;00m get_movie_info_tmdb, get_tmdb_id\n\u001b[1;32m      3\u001b[0m movie \u001b[38;5;241m=\u001b[39m get_tmdb_id(\u001b[38;5;124m\"\u001b[39m\u001b[38;5;124mMatrix\u001b[39m\u001b[38;5;124m\"\u001b[39m, \u001b[38;5;124m\"\u001b[39m\u001b[38;5;124m1999\u001b[39m\u001b[38;5;124m\"\u001b[39m)\n\u001b[1;32m      5\u001b[0m \u001b[38;5;28mprint\u001b[39m(movie)\n",
      "\u001b[0;31mModuleNotFoundError\u001b[0m: No module named 'mainapp'"
     ]
    }
   ],
   "source": [
    "from mainapp.utils import get_movie_info_tmdb, get_tmdb_id\n",
    "\n",
    "movie = get_tmdb_id(\"Matrix\", \"1999\")\n",
    "\n",
    "print(movie)"
   ]
  },
  {
   "cell_type": "code",
   "execution_count": 9,
   "metadata": {},
   "outputs": [],
   "source": [
    "import tmdbsimple as tmdb\n",
    "import requests\n",
    "\n",
    "def get_tmdb_id(title, year):\n",
    "    \"\"\"Returns TMDB id based on provided movie info.\"\"\"\n",
    "    \n",
    "    slugified_title = f\"{title} {str(year)}\".replace(\"-\", \"\").replace(\" \", \"-\").replace(\",\", \"\").replace(\":\",\"\")\n",
    "    headers = {'Content-Type':'application/json',\n",
    "    'trakt-api-version':'2',\n",
    "    'trakt-api-key':'e257c4ec8fc660f3e17f95e5cddd8daf1f178db4cc6ef86ed76bad66d5727c3f'}\n",
    "    movie = requests.get(f'https://api.trakt.tv/movies/{slugified_title}', headers=headers).json()\n",
    "\n",
    "    return movie[\"ids\"][\"tmdb\"]\n",
    "\n",
    "def get_movie_info_tmdb(title, year):\n",
    "    \"\"\"Returns length, description, streaming services, tmdb link, tmdb rating and poster path for a given movie.\"\"\"\n",
    "    \n",
    "    tmdb.API_KEY = \"fc42d2861e48ecba18363aaa6fc2aaa0\"\n",
    "    try:\n",
    "        tmdb_id = get_tmdb_id(title, year)\n",
    "        movie = tmdb.Movies(tmdb_id)\n",
    "    except:\n",
    "        search = tmdb.Search()\n",
    "        search_results = search.movie(query=title)\n",
    "        movie = tmdb.Movies(search.results[0][\"id\"])     \n",
    "    movie_detailed_info = movie.info()\n",
    "    tmdb_id = movie_detailed_info['id']  \n",
    "    length_in_minutes =int(movie_detailed_info[\"runtime\"])\n",
    "    description = movie_detailed_info[\"overview\"]\n",
    "    streaming_services = movie.watch_providers()[\"results\"]\n",
    "    tmdb_link = f\"https://www.themoviedb.org/movie/{tmdb_id}\"\n",
    "    tmdb_rating = round(movie_detailed_info[\"vote_average\"],1)\n",
    "    poster_path = f\"https://image.tmdb.org/t/p/w300_and_h450_bestv2{movie_detailed_info['poster_path']}\"\n",
    "  \n",
    "    # movie_info = {\"Length\":length, \"Description\":description, \"Streaming\":streaming_services, \"TMDB link\":tmdb_link, \"Rating\":tmdb_rating, \"Poster\":poster_path}\n",
    "\n",
    "    return streaming_services\n"
   ]
  },
  {
   "cell_type": "code",
   "execution_count": 13,
   "metadata": {},
   "outputs": [
    {
     "name": "stdout",
     "output_type": "stream",
     "text": [
      "550\n",
      "[{'logo_path': '/pbpMk2JmcoNnQwx5JGpXngfoWtp.jpg', 'provider_id': 8, 'provider_name': 'Netflix', 'display_priority': 1}]\n"
     ]
    }
   ],
   "source": [
    "movie = get_tmdb_id(\"Fight Club\", \"1999\")\n",
    "print(movie)\n",
    "streaming = get_movie_info_tmdb(\"Pulp Fiction\", \"1994\")\n",
    "print(streaming[\"PL\"][\"flatrate\"])"
   ]
  },
  {
   "cell_type": "code",
   "execution_count": null,
   "metadata": {},
   "outputs": [],
   "source": []
  }
 ],
 "metadata": {
  "kernelspec": {
   "display_name": "base",
   "language": "python",
   "name": "python3"
  },
  "language_info": {
   "codemirror_mode": {
    "name": "ipython",
    "version": 3
   },
   "file_extension": ".py",
   "mimetype": "text/x-python",
   "name": "python",
   "nbconvert_exporter": "python",
   "pygments_lexer": "ipython3",
   "version": "3.12.3"
  }
 },
 "nbformat": 4,
 "nbformat_minor": 2
}
